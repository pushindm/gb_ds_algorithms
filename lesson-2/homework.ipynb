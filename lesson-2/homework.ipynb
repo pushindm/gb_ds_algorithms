{
 "cells": [
  {
   "cell_type": "markdown",
   "metadata": {},
   "source": [
    "<h2>Practical Tasks. Lesson 2<h2>"
   ]
  },
  {
   "cell_type": "markdown",
   "metadata": {},
   "source": [
    "<h3>Import modules<h3>"
   ]
  },
  {
   "cell_type": "code",
   "execution_count": 108,
   "metadata": {},
   "outputs": [],
   "source": [
    "import numpy as np\n",
    "import matplotlib.pyplot as plt\n",
    "\n",
    "%matplotlib inline\n",
    "import warnings\n",
    "warnings.filterwarnings('ignore')"
   ]
  },
  {
   "cell_type": "markdown",
   "metadata": {},
   "source": [
    "<h3>Common code<h3>"
   ]
  },
  {
   "cell_type": "code",
   "execution_count": 109,
   "metadata": {},
   "outputs": [],
   "source": [
    "def calc_mse(y, y_pred):\n",
    "    err = np.mean((y - y_pred)**2)\n",
    "    return err"
   ]
  },
  {
   "cell_type": "code",
   "execution_count": 110,
   "metadata": {},
   "outputs": [],
   "source": [
    "def standard_scale(X):\n",
    "    mean = X.mean()\n",
    "    std = X.std()\n",
    "    return (X - mean) / std"
   ]
  },
  {
   "cell_type": "code",
   "execution_count": 111,
   "metadata": {},
   "outputs": [],
   "source": [
    "def sign(coeffs):\n",
    "    # функция, используемая при расчете градиента в L1 регуляризации\n",
    "    s = []\n",
    "    for coeff in coeffs:\n",
    "        s.append((coeff >= 0) * 1.0 + (coeff < 0) * -1.0)\n",
    "    return np.array(s)"
   ]
  },
  {
   "cell_type": "code",
   "execution_count": 112,
   "metadata": {},
   "outputs": [],
   "source": [
    "X = np.array(\n",
    "            [[   1,    1,  500,    1],\n",
    "            [   1,    1,  700,    1],\n",
    "            [   1,    2,  750,    2],\n",
    "            [   1,    5,  600,    1],\n",
    "            [   1,    3, 1450,    2],\n",
    "            [   1,    0,  800,    1],\n",
    "            [   1,    5, 1500,    3],\n",
    "            [   1,   10, 2000,    3],\n",
    "            [   1,    1,  450,    1],\n",
    "            [   1,    2, 1000,    2]]\n",
    "            )\n",
    "\n",
    "X_st = X.copy().astype(np.float64)\n",
    "for i in range(1, X_st.shape[1]):\n",
    "    X_st[:, i] = standard_scale(X_st[:, i])     "
   ]
  },
  {
   "cell_type": "code",
   "execution_count": 113,
   "metadata": {},
   "outputs": [],
   "source": [
    "y = [45, 55, 50, 55, 60, 35, 75, 80, 50, 60]"
   ]
  },
  {
   "cell_type": "code",
   "execution_count": 115,
   "metadata": {},
   "outputs": [],
   "source": [
    "# разбиваем на трейн и тест\n",
    "train_amount = 7\n",
    "train_X = X_st[:train_amount]\n",
    "train_y = y[:train_amount]\n",
    "test_X = X_st[train_amount:]\n",
    "test_y = y[train_amount:]"
   ]
  },
  {
   "cell_type": "markdown",
   "metadata": {},
   "source": [
    "<h3>Task 1<h3>"
   ]
  },
  {
   "cell_type": "code",
   "execution_count": 116,
   "metadata": {},
   "outputs": [],
   "source": [
    "def gradient_descent_reg_l2(X, y, iterations, eta=1e-4, reg=1e-8):\n",
    "    W = np.random.randn(X.shape[1])\n",
    "    n = X.shape[0]\n",
    "    \n",
    "    for i in range(0, iterations):\n",
    "        y_pred = np.dot(X, W)\n",
    "        err = calc_mse(y, y_pred)\n",
    "        dQ = 2/n * X.T @ (y_pred - y) # градиент функции ошибки\n",
    "        dReg = reg * W # градиент регуляризации\n",
    "        W -= eta * (dQ + dReg)\n",
    "    return W"
   ]
  },
  {
   "cell_type": "code",
   "execution_count": 117,
   "metadata": {},
   "outputs": [],
   "source": [
    "alpha_arr = np.linspace(1, 1e-5, 25)"
   ]
  },
  {
   "cell_type": "code",
   "execution_count": 118,
   "metadata": {},
   "outputs": [],
   "source": [
    "w = np.zeros(X_st.shape[1])\n",
    "w_list = []\n",
    "MSE_train = []\n",
    "MSE_test = []\n",
    "\n",
    "for alpha in alpha_arr:\n",
    "    w_curr = gradient_descent_reg_l2(train_X, train_y, iterations=5000, eta=1e-3, reg=alpha) # текущие веса\n",
    "    w_list.append(w_curr)\n",
    "    MSE_train.append(calc_mse(train_y, np.dot(train_X, w_curr))) # ошибка на трейне\n",
    "    MSE_test.append(calc_mse(test_y, np.dot(test_X, w_curr))) # ошибка на тесте"
   ]
  },
  {
   "cell_type": "code",
   "execution_count": 119,
   "metadata": {},
   "outputs": [],
   "source": [
    "w_list_arr = np.array(w_list)\n",
    "MSE_train_arr = np.array(MSE_train)\n",
    "MSE_test_arr = np.array(MSE_test)"
   ]
  },
  {
   "cell_type": "code",
   "execution_count": 120,
   "metadata": {},
   "outputs": [
    {
     "data": {
      "text/plain": [
       "Text(0, 0.5, 'MSE')"
      ]
     },
     "execution_count": 120,
     "metadata": {},
     "output_type": "execute_result"
    },
    {
     "data": {
      "image/png": "[encoded data removed]",
      "text/plain": [
       "<Figure size 720x288 with 2 Axes>"
      ]
     },
     "metadata": {
      "needs_background": "light"
     },
     "output_type": "display_data"
    }
   ],
   "source": [
    "fig, axs = plt.subplots(1, 2, figsize=(10, 4))\n",
    "ax1, ax2 = axs\n",
    "\n",
    "for i in range(w_list_arr.shape[1]):\n",
    "    ax1.plot(alpha_arr, w_list_arr[:, i])\n",
    "ax2.plot(alpha_arr, MSE_train_arr, 'b', label='MSE on train')\n",
    "ax2.plot(alpha_arr, MSE_test_arr, 'g', label='MSE on test')\n",
    "ax2.legend()\n",
    "\n",
    "ax1.set_xlabel('Коэффициент регуляризации (L2)')\n",
    "ax1.set_ylabel('Веса')\n",
    "ax2.set_xlabel('Коэффициент регуляризации (L2)')\n",
    "ax2.set_ylabel('MSE')"
   ]
  },
  {
   "cell_type": "markdown",
   "metadata": {},
   "source": [
    "ВЫВОД: при значениях коэффициента регуляризации около 0.1-0.2 значение MSE на трейне и тесте\n",
    "близки. При значениях коэффициента из указанного диапазона переобучение незначительно, модель хорошо описывает данные."
   ]
  },
  {
   "cell_type": "markdown",
   "metadata": {},
   "source": [
    "<h3>Task 2<h3>"
   ]
  },
  {
   "cell_type": "code",
   "execution_count": 121,
   "metadata": {},
   "outputs": [],
   "source": [
    "def gradient_descent_reg_l1(X, y, iterations, eta=1e-4, reg=1e-8):\n",
    "    W = np.random.randn(X.shape[1])\n",
    "    n = X.shape[0]\n",
    "    \n",
    "    for i in range(0, iterations):\n",
    "        y_pred = np.dot(X, W)\n",
    "        dQ = 2/n * X.T @ (y_pred - y) # градиент функции ошибки\n",
    "        dReg = reg * sign(W) # градиент регуляризации\n",
    "        W -= eta * (dQ + dReg)\n",
    "    return W"
   ]
  },
  {
   "cell_type": "code",
   "execution_count": 122,
   "metadata": {},
   "outputs": [],
   "source": [
    "alpha_arr = np.linspace(10, 1e-5, 50)"
   ]
  },
  {
   "cell_type": "code",
   "execution_count": 123,
   "metadata": {},
   "outputs": [],
   "source": [
    "w = np.zeros(X_st.shape[1])\n",
    "w_list = []\n",
    "MSE_train = []\n",
    "MSE_test = []\n",
    "\n",
    "for alpha in alpha_arr:\n",
    "    w_curr = gradient_descent_reg_l1(train_X, train_y, iterations=5000, eta=1e-3, reg=alpha) # текущие веса\n",
    "    w_list.append(w_curr)\n",
    "    MSE_train.append(calc_mse(train_y, np.dot(train_X, w_curr))) # ошибка на трейне\n",
    "    MSE_test.append(calc_mse(test_y, np.dot(test_X, w_curr))) # ошибка на тесте"
   ]
  },
  {
   "cell_type": "code",
   "execution_count": 124,
   "metadata": {},
   "outputs": [],
   "source": [
    "w_list_arr = np.array(w_list)\n",
    "MSE_train_arr = np.array(MSE_train)\n",
    "MSE_test_arr = np.array(MSE_test)"
   ]
  },
  {
   "cell_type": "code",
   "execution_count": 125,
   "metadata": {},
   "outputs": [
    {
     "data": {
      "text/plain": [
       "Text(0, 0.5, 'MSE')"
      ]
     },
     "execution_count": 125,
     "metadata": {},
     "output_type": "execute_result"
    },
    {
     "data": {
      "image/png": "[encoded data removed]",
      "text/plain": [
       "<Figure size 720x288 with 2 Axes>"
      ]
     },
     "metadata": {
      "needs_background": "light"
     },
     "output_type": "display_data"
    }
   ],
   "source": [
    "fig, axs = plt.subplots(1, 2, figsize=(10, 4))\n",
    "ax1, ax2 = axs\n",
    "\n",
    "for i in range(w_list_arr.shape[1]):\n",
    "    ax1.plot(alpha_arr, w_list_arr[:, i], label='w' + str(i))\n",
    "ax1.legend()\n",
    "\n",
    "ax2.plot(alpha_arr, MSE_train_arr, 'b', label='MSE on train')\n",
    "ax2.plot(alpha_arr, MSE_test_arr, 'g', label='MSE on test')\n",
    "ax2.legend()\n",
    "\n",
    "ax1.set_xlabel('Коэффициент регуляризации (L2)')\n",
    "ax1.set_ylabel('Веса')\n",
    "ax2.set_xlabel('Коэффициент регуляризации (L2)')\n",
    "ax2.set_ylabel('MSE')"
   ]
  },
  {
   "cell_type": "markdown",
   "metadata": {},
   "source": [
    "Вывод: значения MSE на трейне и тесте сравниваются при двух значениях коэффициента регуляризации, которые можно считать оптимальными. Также из левого графика видно, что коэффициент регрессии w2 с ростом коэффициента регуляризации зануляется первым. Соответствующий признак, стоимость за час, является наименее существенным."
   ]
  }
 ],
 "metadata": {
  "interpreter": {
   "hash": "251e81559002ddd7b2bf032dcaac0eab8c07dc3f187a921f1aa359dc2a69befe"
  },
  "kernelspec": {
   "display_name": "Python 3.9.5 64-bit",
   "name": "python3"
  },
  "language_info": {
   "codemirror_mode": {
    "name": "ipython",
    "version": 3
   },
   "file_extension": ".py",
   "mimetype": "text/x-python",
   "name": "python",
   "nbconvert_exporter": "python",
   "pygments_lexer": "ipython3",
   "version": "3.9.5"
  },
  "metadata": {
   "interpreter": {
    "hash": "251e81559002ddd7b2bf032dcaac0eab8c07dc3f187a921f1aa359dc2a69befe"
   }
  },
  "orig_nbformat": 2
 },
 "nbformat": 4,
 "nbformat_minor": 2
}
