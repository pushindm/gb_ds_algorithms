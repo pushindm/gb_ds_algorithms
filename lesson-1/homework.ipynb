{
 "cells": [
  {
   "cell_type": "markdown",
   "metadata": {},
   "source": [
    "<h2>Practical Tasks. Lesson 1<h2>"
   ]
  },
  {
   "cell_type": "markdown",
   "metadata": {},
   "source": [
    "<h3>Import modules<h3>"
   ]
  },
  {
   "cell_type": "code",
   "execution_count": 26,
   "metadata": {},
   "outputs": [],
   "source": [
    "import numpy as np\n",
    "import matplotlib as plt"
   ]
  },
  {
   "cell_type": "markdown",
   "metadata": {},
   "source": [
    "<h3>Common code<h3>"
   ]
  },
  {
   "cell_type": "code",
   "execution_count": 27,
   "metadata": {},
   "outputs": [],
   "source": [
    "X = np.array([[ 1,  1],\n",
    "                [ 1,  1],\n",
    "                [ 1,  2],\n",
    "                [ 1,  5],\n",
    "                [ 1,  3],\n",
    "                [ 1,  0],\n",
    "                [ 1,  5],\n",
    "                [ 1, 10],\n",
    "                [ 1,  1],\n",
    "                [ 1,  2]])\n",
    "\n",
    "y = [45, 55, 50, 55, 60, 35, 75, 80, 50, 60]"
   ]
  },
  {
   "cell_type": "code",
   "execution_count": 28,
   "metadata": {},
   "outputs": [],
   "source": [
    "def calc_mse(y, y_pred):\n",
    "    err = np.mean((y - y_pred)**2)\n",
    "    return err"
   ]
  },
  {
   "cell_type": "markdown",
   "metadata": {},
   "source": [
    "<h3>Task 1<h3>"
   ]
  },
  {
   "cell_type": "code",
   "execution_count": 29,
   "metadata": {},
   "outputs": [
    {
     "name": "stdout",
     "output_type": "stream",
     "text": [
      "Number of objects = 10         \n",
      "Learning rate = 0.076         \n",
      "Initial weights = [1.  0.5] \n",
      "\n",
      "Iteration #0: W_new = [ 9.208 29.152], MSE = 3047.75\n",
      "Iteration #10: W_new = [138.23069489 633.9576653 ], MSE = 3505847.89\n",
      "Iteration #20: W_new = [ 760.13512215 4011.70603688], MSE = 200633878.48\n",
      "Iteration #30: W_new = [ 790.823393   4154.22276856], MSE = 309781568.05\n",
      "Iteration #40: W_new = [146.15211825 584.55377132], MSE = 9035376.89\n",
      "Iteration #50: W_new = [43.97921506 12.82385961], MSE = 3116.32\n",
      "Iteration #60: W_new = [43.29908811  4.14182863], MSE = 45.56\n",
      "final MSE: 44.99\n"
     ]
    }
   ],
   "source": [
    "n = X.shape[0]\n",
    "\n",
    "# eta = 1e-2 \n",
    "# n_iter = 100\n",
    "\n",
    "# ИЗМЕНЕНИЕ\n",
    "# решение ручным способом\n",
    "# 1. Тестовый прогон при eta_opt = 0.001, 0.01, 0.1, 0.5. \n",
    "#    Выбор диапазона для метода деления пополам\n",
    "# 2. Подбор методом деления пополам оптимальной величины eta_opt \n",
    "#    в диапазоне 0.01-0.1, при которой за наименьшее число шагов \n",
    "#    (с точностью до 10 шагов) перестает меняться целая часть MSE (n_iter=100). \n",
    "# 2. Подбор методом деления пополам минимального числа итераций, \n",
    "#    при превышении которого целая часть MSE не меняется (при eta=eta_opt)\n",
    "eta = 0.076\n",
    "n_iter = 67\n",
    "# ИЗМЕНЕНИЕ\n",
    "\n",
    "W = np.array([1, 0.5])\n",
    "print(f'Number of objects = {n} \\\n",
    "        \\nLearning rate = {eta} \\\n",
    "        \\nInitial weights = {W} \\n')\n",
    "\n",
    "for i in range(n_iter):\n",
    "    y_pred = np.dot(X, W)\n",
    "    err = calc_mse(y, y_pred)\n",
    "    for k in range(W.shape[0]):\n",
    "        W[k] -= eta * (1/n * 2 * X[:, k] @ (y_pred - y))\n",
    "    if i % 10 == 0:\n",
    "        eta /= 1.1\n",
    "        print(f'Iteration #{i}: W_new = {W}, MSE = {round(err, 2)}')\n",
    "# ИЗМЕНЕНИЕ (добавлен вывод финальной MSE)\n",
    "print(f'final MSE: {calc_mse(y, y_pred):.2f}')"
   ]
  },
  {
   "cell_type": "markdown",
   "metadata": {},
   "source": [
    "<h3>Task 2<h3>"
   ]
  },
  {
   "cell_type": "code",
   "execution_count": 30,
   "metadata": {},
   "outputs": [
    {
     "name": "stdout",
     "output_type": "stream",
     "text": [
      "Number of objects = 10         \n",
      "Learning rate = 0.01         \n",
      "Initial weights = [1.  0.5] \n",
      "\n",
      "Iteration #0: W_new = [2.08 4.27], MSE = 3047.75\n",
      "Iteration #10: W_new = [ 7.0011236 10.6169007], MSE = 738.65\n",
      "Iteration #20: W_new = [10.3486292  10.10603105], MSE = 622.03\n",
      "Iteration #30: W_new = [13.38789582  9.55618391], MSE = 525.24\n",
      "Iteration #40: W_new = [16.16088505  9.05336203], MSE = 444.66\n",
      "Iteration #50: W_new = [18.69110735  8.59454545], MSE = 377.58\n",
      "Iteration #60: W_new = [20.99981865  8.17589626], MSE = 321.72\n",
      "Iteration #70: W_new = [23.10641138  7.79389815], MSE = 275.22\n",
      "Iteration #80: W_new = [25.02858024  7.44534246], MSE = 236.5\n",
      "Iteration #90: W_new = [26.78247081  7.12730145], MSE = 204.27\n"
     ]
    }
   ],
   "source": [
    "n = X.shape[0]\n",
    "\n",
    "eta = 1e-2 \n",
    "n_iter = 100\n",
    "\n",
    "W = np.array([1, 0.5])\n",
    "print(f'Number of objects = {n} \\\n",
    "        \\nLearning rate = {eta} \\\n",
    "        \\nInitial weights = {W} \\n')\n",
    "\n",
    "for i in range(n_iter):\n",
    "    y_pred = np.dot(X, W)\n",
    "    err = calc_mse(y, y_pred)\n",
    "#     for k in range(W.shape[0]):\n",
    "#         W[k] -= eta * (1/n * 2 * X[:, k] @ (y_pred - y))\n",
    "    # ИЗМЕНЕНИЕ\n",
    "    W -= eta * (1/n * 2 * np.dot(X.T, y_pred - y)) # необходимо транспонировать матрицу объект-признак\n",
    "    # ИЗМЕНЕНИЕ\n",
    "    #\n",
    "    if i % 10 == 0:\n",
    "        print(f'Iteration #{i}: W_new = {W}, MSE = {round(err,2)}')"
   ]
  },
  {
   "cell_type": "markdown",
   "metadata": {},
   "source": [
    "<h3>Task 3<h3>"
   ]
  },
  {
   "cell_type": "code",
   "execution_count": 34,
   "metadata": {},
   "outputs": [
    {
     "name": "stdout",
     "output_type": "stream",
     "text": [
      "Number of objects = 10         \n",
      "Initial learning rate = 0.08         \n",
      "Initial weights = [1.  0.5] \n",
      "\n",
      "Iteration #10: W_new = [ 431.4621068  2255.88179115], MSE = 28049314.27\n",
      "Iteration #20: W_new = [ 33058.32132571 182121.99076611], MSE = 249559735875.19\n",
      "Iteration #30: W_new = [ 529867.62560491 2921832.06403147], MSE = 88802951927376.78\n",
      "Iteration #40: W_new = [1490561.21558585 8219724.06279892], MSE = 995526977565397.6\n",
      "Iteration #50: W_new = [ 628388.2514804  3465119.01898128], MSE = 258608419048863.8\n",
      "Iteration #60: W_new = [ 32239.8414339  177554.36088577], MSE = 1034907872548.49\n",
      "Iteration #70: W_new = [194.10147114 830.33200053], MSE = 36221033.45\n",
      "Iteration #80: W_new = [44.54999315  4.13999238], MSE = 48.94\n",
      "Iteration #90: W_new = [44.67087336  3.88351735], MSE = 44.05\n",
      "Iteration #100: W_new = [44.77649691  3.86436225], MSE = 44.01\n",
      "Iteration #110: W_new = [44.84749086  3.85148859], MSE = 43.99\n",
      "Iteration #120: W_new = [44.89655841  3.84259095], MSE = 43.98\n",
      "Iteration #130: W_new = [44.93133974  3.83628389], MSE = 43.98\n",
      "Iteration #140: W_new = [44.95656588  3.83170952], MSE = 43.97\n",
      "Iteration #150: W_new = [44.97524604  3.82832216], MSE = 43.97\n",
      "Iteration #160: W_new = [44.98934206  3.82576606], MSE = 43.97\n",
      "Iteration #170: W_new = [45.00016234  3.82380397], MSE = 43.97\n",
      "Convergence reached\n",
      "Best weights: [45.00106217  3.8236408 ] (error=0.001)\n"
     ]
    }
   ],
   "source": [
    "n = X.shape[0]         # object number\n",
    "eta = 0.08             # initial size\n",
    "W = np.array([1, 0.5]) # initial weights\n",
    "print(f'Number of objects = {n} \\\n",
    "        \\nInitial learning rate = {eta} \\\n",
    "        \\nInitial weights = {W} \\n')\n",
    "\n",
    "# ИЗМЕНЕНИЕ (по сравнению с задачами 1 и 2)\n",
    "min_weight_dist = 1e-3\n",
    "weight_dist = np.inf\n",
    "iter_num = 1\n",
    "\n",
    "while weight_dist > min_weight_dist:\n",
    "    y_pred = np.dot(X, W)\n",
    "    new_W = W - eta * (1/n * 2 * np.dot(X.T, y_pred - y))\n",
    "    weight_dist = np.linalg.norm(new_W - W, ord=2)\n",
    "    err = calc_mse(y, y_pred) \n",
    "    W = new_W\n",
    "    iter_num += 1\n",
    "    if iter_num % 10 == 0:\n",
    "        eta /= 1.1\n",
    "        print(f'Iteration #{iter_num}: W_new = {W}, MSE = {round(err,2)}')\n",
    "print(f'Convergence reached\\nBest weights: {W} (error={min_weight_dist})')"
   ]
  }
 ],
 "metadata": {
  "interpreter": {
   "hash": "251e81559002ddd7b2bf032dcaac0eab8c07dc3f187a921f1aa359dc2a69befe"
  },
  "kernelspec": {
   "display_name": "Python 3.9.5 64-bit",
   "name": "python3"
  },
  "language_info": {
   "codemirror_mode": {
    "name": "ipython",
    "version": 3
   },
   "file_extension": ".py",
   "mimetype": "text/x-python",
   "name": "python",
   "nbconvert_exporter": "python",
   "pygments_lexer": "ipython3",
   "version": "3.9.5"
  },
  "metadata": {
   "interpreter": {
    "hash": "251e81559002ddd7b2bf032dcaac0eab8c07dc3f187a921f1aa359dc2a69befe"
   }
  },
  "orig_nbformat": 2
 },
 "nbformat": 4,
 "nbformat_minor": 2
}
